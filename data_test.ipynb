{
 "cells": [
  {
   "cell_type": "code",
   "execution_count": 1,
   "metadata": {},
   "outputs": [],
   "source": [
    "import pandas as pd\n",
    "import numpy as np\n",
    "\n",
    "cell_size = 0.0083333333333333\n",
    "NODATA_value = -9999\n",
    "start_x = -180\n",
    "start_y = 90\n",
    "\n",
    "filepath_base = \"gpw-v4-population-count-rev11_2020_30_sec_asc/gpw_v4_population_count_rev11_2020_30_sec_\"\n",
    "grid = None\n",
    "for col in range(2):\n",
    "    grid_line = None\n",
    "    for row in range(4):\n",
    "        filepath = filepath_base + str(col * 4 + row + 1) + \".asc\"\n",
    "        # grid_part = np.loadtxt(filepath, skiprows=6)\n",
    "        grid_part = pd.read_csv(filepath,header=None,na_filter=False,delim_whitespace=True, skiprows=6).to_numpy()\n",
    "        if grid_line is None:\n",
    "            grid_line = grid_part\n",
    "        else:\n",
    "            grid_line = np.concatenate((grid_line, grid_part), axis=1)\n",
    "    if grid is None:\n",
    "        grid = grid_line\n",
    "    else :\n",
    "        grid = np.concatenate((grid, grid_line), axis=0)"
   ]
  },
  {
   "cell_type": "code",
   "execution_count": 2,
   "metadata": {},
   "outputs": [
    {
     "data": {
      "text/plain": "(21600, 43200)"
     },
     "execution_count": 2,
     "metadata": {},
     "output_type": "execute_result"
    }
   ],
   "source": [
    "grid.shape"
   ]
  },
  {
   "cell_type": "code",
   "execution_count": null,
   "outputs": [],
   "source": [],
   "metadata": {
    "collapsed": false,
    "pycharm": {
     "name": "#%%\n"
    }
   }
  },
  {
   "cell_type": "code",
   "execution_count": 8,
   "outputs": [
    {
     "name": "stdout",
     "output_type": "stream",
     "text": [
      "(array([  764,   764,   764, ..., 17518, 17518, 17518]), array([17677, 17678, 17679, ..., 13527, 13528, 13529]))\n"
     ]
    }
   ],
   "source": [
    "print (np.where(grid != NODATA_value))"
   ],
   "metadata": {
    "collapsed": false,
    "pycharm": {
     "name": "#%%\n"
    }
   }
  },
  {
   "cell_type": "code",
   "execution_count": 2,
   "outputs": [
    {
     "name": "stdout",
     "output_type": "stream",
     "text": [
      "Looking in indexes: https://pypi.tuna.tsinghua.edu.cn/simple\r\n",
      "Requirement already satisfied: shapely in /Users/kgkg/opt/anaconda3/lib/python3.9/site-packages (1.8.0)\r\n"
     ]
    }
   ],
   "source": [
    "# !pip install shapely"
   ],
   "metadata": {
    "collapsed": false,
    "pycharm": {
     "name": "#%%\n"
    }
   }
  },
  {
   "cell_type": "code",
   "execution_count": null,
   "outputs": [],
   "source": [],
   "metadata": {
    "collapsed": false,
    "pycharm": {
     "name": "#%%\n"
    }
   }
  },
  {
   "cell_type": "code",
   "execution_count": 4,
   "outputs": [],
   "source": [
    "from shapely.geometry import shape, Point\n",
    "from shapely.prepared import prep\n",
    "import numpy as np\n",
    "import json\n",
    "# cell_size = 0.0083333333333333\n",
    "# NODATA_value = -9999\n",
    "with open(\"1.geojson\") as gj:\n",
    "    gjson = json.load(gj)\n",
    "\n",
    "polygon = shape(gjson['features'][0]['geometry'])\n",
    "(latmin, lonmin, latmax, lonmax) =((x // cell_size * cell_size) for x in polygon.bounds)\n",
    "prep_polygon = prep(polygon)\n",
    "points = []\n",
    "for lat in np.arange(latmin, latmax, cell_size):\n",
    "    for lon in np.arange(lonmin, lonmax, cell_size):\n",
    "        points.append(Point((round(lat,4), round(lon,4))))\n",
    "valid_points = []\n",
    "valid_points.extend(filter(prep_polygon.contains, points))\n",
    "# print(valid_points)"
   ],
   "metadata": {
    "collapsed": false,
    "pycharm": {
     "name": "#%%\n"
    }
   }
  },
  {
   "cell_type": "code",
   "execution_count": 6,
   "outputs": [
    {
     "name": "stdout",
     "output_type": "stream",
     "text": [
      "28109088\n"
     ]
    }
   ],
   "source": [
    "sum = 0\n",
    "for point in  valid_points:\n",
    "    lon, lat = point.x, point.y\n",
    "    local_sum = grid[int((start_y - lat) // cell_size)][int((lon - start_x) // cell_size)]\n",
    "    if local_sum != NODATA_value:\n",
    "        sum += int(local_sum)\n",
    "print(sum)"
   ],
   "metadata": {
    "collapsed": false,
    "pycharm": {
     "name": "#%%\n"
    }
   }
  },
  {
   "cell_type": "code",
   "execution_count": 57,
   "outputs": [
    {
     "name": "stdout",
     "output_type": "stream",
     "text": [
      "0       北京\n",
      "1       天津\n",
      "2       河北\n",
      "3       山西\n",
      "4      内蒙古\n",
      "5       辽宁\n",
      "6       吉林\n",
      "7      黑龙江\n",
      "8       上海\n",
      "9       江苏\n",
      "10      浙江\n",
      "11      安徽\n",
      "12      福建\n",
      "13      江西\n",
      "14      山东\n",
      "15      河南\n",
      "16      湖北\n",
      "17      湖南\n",
      "18      广东\n",
      "19      广西\n",
      "20      海南\n",
      "21      重庆\n",
      "22      四川\n",
      "23      贵州\n",
      "24      云南\n",
      "25      西藏\n",
      "26      陕西\n",
      "27      甘肃\n",
      "28      青海\n",
      "29      宁夏\n",
      "30      新疆\n",
      "31      台湾\n",
      "32      香港\n",
      "33      澳门\n",
      "34    南海诸岛\n",
      "35    南海诸岛\n",
      "Name: name, dtype: object\n",
      "0          北京市\n",
      "1          天津市\n",
      "2          河北省\n",
      "3          山西省\n",
      "4       内蒙古自治区\n",
      "5          辽宁省\n",
      "6          吉林省\n",
      "7         黑龙江省\n",
      "8          上海市\n",
      "9          江苏省\n",
      "10         浙江省\n",
      "11         安徽省\n",
      "12         福建省\n",
      "13         江西省\n",
      "14         山东省\n",
      "15         河南省\n",
      "16         湖北省\n",
      "17         湖南省\n",
      "18         广东省\n",
      "19     广西壮族自治区\n",
      "20         海南省\n",
      "21         重庆市\n",
      "22         四川省\n",
      "23         贵州省\n",
      "24         云南省\n",
      "25       西藏自治区\n",
      "26         陕西省\n",
      "27         甘肃省\n",
      "28         青海省\n",
      "29     宁夏回族自治区\n",
      "30    新疆维吾尔自治区\n",
      "31         台湾省\n",
      "32          香港\n",
      "33          澳门\n",
      "34            \n",
      "Name: name, dtype: object\n"
     ]
    }
   ],
   "source": [
    "# !pip install geopandas\n",
    "import geopandas as gpd\n",
    "import json\n",
    "df_places = gpd.read_file('jsonp.json')\n",
    "df_places2 = gpd.read_file('jsonp1.json')\n",
    "with open(\"jsonp.json\") as gj:\n",
    "    gjson = json.load(gj)\n",
    "print(df_places2['name'])\n",
    "print(df_places['name'])\n",
    "# df_places.tail()\n",
    "# # print(df_places.to_json())\n",
    "# for index, row in df_places.iterrows():\n",
    "#     print(row)"
   ],
   "metadata": {
    "collapsed": false,
    "pycharm": {
     "name": "#%%\n"
    }
   }
  },
  {
   "cell_type": "code",
   "execution_count": 46,
   "outputs": [
    {
     "name": "stdout",
     "output_type": "stream",
     "text": [
      "Looking in indexes: https://pypi.tuna.tsinghua.edu.cn/simple\r\n",
      "Collecting asyncio\r\n",
      "  Downloading https://pypi.tuna.tsinghua.edu.cn/packages/22/74/07679c5b9f98a7cb0fc147b1ef1cc1853bc07a4eb9cb5731e24732c5f773/asyncio-3.4.3-py3-none-any.whl (101 kB)\r\n",
      "\u001B[K     |████████████████████████████████| 101 kB 397 kB/s ta 0:00:011\r\n",
      "\u001B[?25hInstalling collected packages: asyncio\r\n",
      "Successfully installed asyncio-3.4.3\r\n"
     ]
    }
   ],
   "source": [
    "!pip install asyncio"
   ],
   "metadata": {
    "collapsed": false,
    "pycharm": {
     "name": "#%%\n"
    }
   }
  },
  {
   "cell_type": "code",
   "execution_count": null,
   "outputs": [],
   "source": [],
   "metadata": {
    "collapsed": false,
    "pycharm": {
     "name": "#%%\n"
    }
   }
  }
 ],
 "metadata": {
  "interpreter": {
   "hash": "6e5aa74498c5de47dc1664586d300bf7570d692b688558ae62d57f40601f1ca4"
  },
  "kernelspec": {
   "display_name": "Python 3.9.7 64-bit ('base': conda)",
   "language": "python",
   "name": "python3"
  },
  "language_info": {
   "name": "python",
   "version": "3.9.7"
  },
  "orig_nbformat": 4
 },
 "nbformat": 4,
 "nbformat_minor": 2
}
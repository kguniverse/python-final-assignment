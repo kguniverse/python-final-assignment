{
 "cells": [
  {
   "cell_type": "code",
   "execution_count": 1,
   "metadata": {},
   "outputs": [],
   "source": [
    "import pandas as pd\n",
    "import numpy as np\n",
    "\n",
    "cell_size = 0.0083333333333333\n",
    "NODATA_value = -9999\n",
    "start_x = -180\n",
    "start_y = 90\n",
    "\n",
    "filepath_base = \"gpw-v4-population-count-rev11_2020_30_sec_asc/gpw_v4_population_count_rev11_2020_30_sec_\"\n",
    "grid = None\n",
    "for col in range(2):\n",
    "    grid_line = None\n",
    "    for row in range(4):\n",
    "        filepath = filepath_base + str(col * 4 + row + 1) + \".asc\"\n",
    "        # grid_part = np.loadtxt(filepath, skiprows=6)\n",
    "        grid_part = pd.read_csv(filepath,header=None,na_filter=False,delim_whitespace=True, skiprows=6).to_numpy()\n",
    "        if grid_line is None:\n",
    "            grid_line = grid_part\n",
    "        else:\n",
    "            grid_line = np.concatenate((grid_line, grid_part), axis=1)\n",
    "    if grid is None:\n",
    "        grid = grid_line\n",
    "    else :\n",
    "        grid = np.concatenate((grid, grid_line), axis=0)"
   ]
  },
  {
   "cell_type": "code",
   "execution_count": 2,
   "metadata": {},
   "outputs": [
    {
     "data": {
      "text/plain": "(21600, 43200)"
     },
     "execution_count": 2,
     "metadata": {},
     "output_type": "execute_result"
    }
   ],
   "source": [
    "grid.shape"
   ]
  },
  {
   "cell_type": "code",
   "execution_count": null,
   "outputs": [],
   "source": [],
   "metadata": {
    "collapsed": false,
    "pycharm": {
     "name": "#%%\n"
    }
   }
  },
  {
   "cell_type": "code",
   "execution_count": 8,
   "outputs": [
    {
     "name": "stdout",
     "output_type": "stream",
     "text": [
      "(array([  764,   764,   764, ..., 17518, 17518, 17518]), array([17677, 17678, 17679, ..., 13527, 13528, 13529]))\n"
     ]
    }
   ],
   "source": [
    "print (np.where(grid != NODATA_value))"
   ],
   "metadata": {
    "collapsed": false,
    "pycharm": {
     "name": "#%%\n"
    }
   }
  },
  {
   "cell_type": "code",
   "execution_count": 2,
   "outputs": [
    {
     "name": "stdout",
     "output_type": "stream",
     "text": [
      "Looking in indexes: https://pypi.tuna.tsinghua.edu.cn/simple\r\n",
      "Requirement already satisfied: shapely in /Users/kgkg/opt/anaconda3/lib/python3.9/site-packages (1.8.0)\r\n"
     ]
    }
   ],
   "source": [
    "# !pip install shapely"
   ],
   "metadata": {
    "collapsed": false,
    "pycharm": {
     "name": "#%%\n"
    }
   }
  },
  {
   "cell_type": "code",
   "execution_count": 4,
   "outputs": [],
   "source": [
    "from shapely.geometry import shape, Point\n",
    "from shapely.prepared import prep\n",
    "import numpy as np\n",
    "import json\n",
    "# cell_size = 0.0083333333333333\n",
    "# NODATA_value = -9999\n",
    "with open(\"1.geojson\") as gj:\n",
    "    gjson = json.load(gj)\n",
    "\n",
    "polygon = shape(gjson['features'][0]['geometry'])\n",
    "(latmin, lonmin, latmax, lonmax) =((x // cell_size * cell_size) for x in polygon.bounds)\n",
    "prep_polygon = prep(polygon)\n",
    "points = []\n",
    "for lat in np.arange(latmin, latmax, cell_size):\n",
    "    for lon in np.arange(lonmin, lonmax, cell_size):\n",
    "        points.append(Point((round(lat,4), round(lon,4))))\n",
    "valid_points = []\n",
    "valid_points.extend(filter(prep_polygon.contains, points))\n",
    "# print(valid_points)"
   ],
   "metadata": {
    "collapsed": false,
    "pycharm": {
     "name": "#%%\n"
    }
   }
  },
  {
   "cell_type": "code",
   "execution_count": 6,
   "outputs": [
    {
     "name": "stdout",
     "output_type": "stream",
     "text": [
      "28109088\n"
     ]
    }
   ],
   "source": [
    "sum = 0\n",
    "for point in  valid_points:\n",
    "    lon, lat = point.x, point.y\n",
    "    local_sum = grid[int((start_y - lat) // cell_size)][int((lon - start_x) // cell_size)]\n",
    "    if local_sum != NODATA_value:\n",
    "        sum += int(local_sum)\n",
    "print(sum)"
   ],
   "metadata": {
    "collapsed": false,
    "pycharm": {
     "name": "#%%\n"
    }
   }
  },
  {
   "cell_type": "code",
   "execution_count": null,
   "outputs": [],
   "source": [],
   "metadata": {
    "collapsed": false,
    "pycharm": {
     "name": "#%%\n"
    }
   }
  }
 ],
 "metadata": {
  "interpreter": {
   "hash": "6e5aa74498c5de47dc1664586d300bf7570d692b688558ae62d57f40601f1ca4"
  },
  "kernelspec": {
   "display_name": "Python 3.9.7 64-bit ('base': conda)",
   "language": "python",
   "name": "python3"
  },
  "language_info": {
   "name": "python",
   "version": "3.9.7"
  },
  "orig_nbformat": 4
 },
 "nbformat": 4,
 "nbformat_minor": 2
}
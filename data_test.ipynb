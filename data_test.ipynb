{
 "cells": [
  {
   "cell_type": "code",
   "execution_count": 11,
   "metadata": {},
   "outputs": [],
   "source": [
    "import pandas as pd\n",
    "import numpy as np\n",
    "\n",
    "cell_size = 0.0083333333333333\n",
    "NODATA_value = -9999\n",
    "filepath_base = \"gpw-v4-population-count-rev11_2020_30_sec_asc/gpw_v4_population_count_rev11_2020_30_sec_\"\n",
    "grid = None\n",
    "for col in range(2):\n",
    "    grid_line = None\n",
    "    for row in range(4):\n",
    "        filepath = filepath_base + str(col * 4 + row + 1) + \".asc\"\n",
    "        # grid_part = np.loadtxt(filepath, skiprows=6)\n",
    "        grid_part = pd.read_csv(filepath,header=None,na_filter=False,delim_whitespace=True, skiprows=6).to_numpy()\n",
    "        if grid_line is None:\n",
    "            grid_line = grid_part\n",
    "        else:\n",
    "            grid_line = np.concatenate((grid_line, grid_part), axis=1)\n",
    "    if grid is None:\n",
    "        grid = grid_line\n",
    "    else :\n",
    "        grid = np.concatenate((grid, grid_line), axis=0)"
   ]
  },
  {
   "cell_type": "code",
   "execution_count": 13,
   "metadata": {},
   "outputs": [
    {
     "data": {
      "text/plain": "array([[-9999., -9999., -9999., ..., -9999., -9999., -9999.],\n       [-9999., -9999., -9999., ..., -9999., -9999., -9999.],\n       [-9999., -9999., -9999., ..., -9999., -9999., -9999.],\n       [-9999., -9999., -9999., ..., -9999., -9999., -9999.],\n       [-9999., -9999., -9999., ..., -9999., -9999., -9999.]])"
     },
     "execution_count": 13,
     "metadata": {},
     "output_type": "execute_result"
    }
   ],
   "source": []
  },
  {
   "cell_type": "code",
   "execution_count": null,
   "outputs": [],
   "source": [],
   "metadata": {
    "collapsed": false,
    "pycharm": {
     "name": "#%%\n"
    }
   }
  }
 ],
 "metadata": {
  "interpreter": {
   "hash": "6e5aa74498c5de47dc1664586d300bf7570d692b688558ae62d57f40601f1ca4"
  },
  "kernelspec": {
   "display_name": "Python 3.9.7 64-bit ('base': conda)",
   "language": "python",
   "name": "python3"
  },
  "language_info": {
   "name": "python",
   "version": "3.9.7"
  },
  "orig_nbformat": 4
 },
 "nbformat": 4,
 "nbformat_minor": 2
}